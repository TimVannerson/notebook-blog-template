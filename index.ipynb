{
 "cells": [
  {
   "cell_type": "markdown",
   "id": "9ad9a063",
   "metadata": {},
   "source": [
    "THIS IS ONLY A TEST"
   ]
  },
  {
   "cell_type": "code",
   "execution_count": null,
   "id": "3c0e3964",
   "metadata": {},
   "outputs": [],
   "source": [
    "print('Hello Blog')"
   ]
  }
 ],
 "metadata": {
  "kernelspec": {
   "display_name": "Python 3 (ipykernel)",
   "language": "python",
   "name": "python3"
  },
  "language_info": {
   "codemirror_mode": {
    "name": "ipython",
    "version": 3
   },
   "file_extension": ".py",
   "mimetype": "text/x-python",
   "name": "python",
   "nbconvert_exporter": "python",
   "pygments_lexer": "ipython3",
   "version": "3.8.9"
  }
 },
 "nbformat": 4,
 "nbformat_minor": 5
}
